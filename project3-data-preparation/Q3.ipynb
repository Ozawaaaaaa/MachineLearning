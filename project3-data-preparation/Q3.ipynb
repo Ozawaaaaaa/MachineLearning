{
 "cells": [
  {
   "cell_type": "markdown",
   "metadata": {},
   "source": [
    "## Q3. Parse the PDF v2"
   ]
  },
  {
   "cell_type": "markdown",
   "metadata": {},
   "source": [
    "In this part, we are going to parse the text out using ```pdfminer``` from 200 papers related to COVID-19."
   ]
  },
  {
   "cell_type": "markdown",
   "metadata": {},
   "source": [
    "Parsing PDF is a very time-consuming and memory-intensive task, so PDFMiner uses a strategy called lazy parsing and only parses when needed to reduce time and memory usage. To parse PDF requires at least two classes: PDFParser and PDFDocument, PDFParser extracts data from the file, and PDFDocument saves the data. In addition, PDFPageInterpreter is needed to process the page content, and PDFDevice converts it to what we need. PDFResourceManager is used to save shared content such as fonts or pictures.\n",
    "\n",
    "PDF is not like word or txt, which can be read easily. Reading PDF itself is a difficult task. When reading PDF with a program, it also reads PDF in binary and then converts it into text.\n",
    "\n",
    "Reading PDF is more like reading a picture. PDF puts the content on the exact position of a piece of paper. In most cases, there is no logical structure, such as sentences or paragraphs, and the page size adjustment cannot be adapted. PDFMiner tries to reconstruct their structure by guessing their layout, but it is not guaranteed to work.\n"
   ]
  },
  {
   "cell_type": "markdown",
   "metadata": {},
   "source": [
    "## Install pdfminer"
   ]
  },
  {
   "cell_type": "markdown",
   "metadata": {},
   "source": [
    "Use pip to install the library. The library require `Python 3.7` or higher version."
   ]
  },
  {
   "cell_type": "markdown",
   "metadata": {},
   "source": [
    "`pip install pdfminer3k`"
   ]
  },
  {
   "cell_type": "markdown",
   "metadata": {},
   "source": [
    "### Library Documentation"
   ]
  },
  {
   "cell_type": "markdown",
   "metadata": {},
   "source": [
    "For detail documentation, please vist https://pypi.org/project/pdfminer/"
   ]
  },
  {
   "cell_type": "markdown",
   "metadata": {},
   "source": [
    "There are several classes that we need to pay attention to.\n",
    "\n",
    "1. PDFParser: gets data from files\n",
    "\n",
    "2. PDFDocument: Storing the document data structure in memory\n",
    "\n",
    "3. PDFPageInterpreter: parses page content\n",
    "\n",
    "4. PDFDevice: converts the parsed content into what you need\n",
    "\n",
    "5. PDFResourceManager: stores shared resources, such as fonts or pictures"
   ]
  },
  {
   "cell_type": "markdown",
   "metadata": {},
   "source": [
    "#### What is in the LTPage Object?"
   ]
  },
  {
   "attachments": {
    "image.png": {
     "image/png": "[encoded data removed]"
    }
   },
   "cell_type": "markdown",
   "metadata": {},
   "source": [
    "\n",
    "\n",
    "![image.png](attachment:image.png)\n",
    "1. LTPage: Represents the entire page. May contain LTTextBox, LTFigure, LTImage, LTRect, LTCurve and LTLine sub-objects.\n",
    "\n",
    "2. LTTextBox: indicates that a group of text blocks may be contained in a rectangular area. Note that this box is created by geometric analysis and does not necessarily represent a logical boundary of the text. It contains a list of LTTextLine objects. Use the text content returned by the get_text () method.\n",
    "\n",
    "3. LTTextLine: Contains a list of LTChar objects representing a single text line. Character alignment is either horizontal or vertical, depending on the writing mode of the text. The text content returned by the get_text () method.\n",
    "\n",
    "4. LTChar\n",
    "\n",
    "5. LTAnno: The actual letters in the text are represented as Unicode strings (?). It should be noted that although an LTChar object has actual boundaries, but LTAnno objects do not have the bondaries. because these are \"virtual\" characters, which are inserted by the layout analysis based on the relationship between two characters (for example, a space).\n",
    "\n",
    "6. LTImage: Represents an image object. Embedded images can be in JPEG or other formats, but currently PDFMiner does not place much effort on graphic objects.\n",
    "\n",
    "7. LTLine: represents a straight line. Can be used to separate text or drawings.\n",
    "\n",
    "8. LTRect: Represents a rectangle. Another picture or number that can be used for the frame.\n",
    "\n",
    "9. LTCurve: Represents a general Bezier curve"
   ]
  },
  {
   "cell_type": "markdown",
   "metadata": {},
   "source": [
    "### Coding Area"
   ]
  },
  {
   "cell_type": "markdown",
   "metadata": {},
   "source": [
    "#### imports"
   ]
  },
  {
   "cell_type": "code",
   "execution_count": 2,
   "metadata": {},
   "outputs": [],
   "source": [
    "from pdfminer.pdfparser import PDFParser\n",
    "from pdfminer.pdfdocument import PDFDocument\n",
    "from pdfminer.pdfpage import PDFPage\n",
    "from pdfminer.pdfpage import PDFTextExtractionNotAllowed\n",
    "from pdfminer.pdfinterp import PDFResourceManager\n",
    "from pdfminer.pdfinterp import PDFPageInterpreter\n",
    "from pdfminer.pdfdevice import PDFDevice\n",
    "from pdfminer.layout import LAParams\n",
    "from pdfminer.converter import PDFPageAggregator\n",
    "import numpy as np\n",
    "import pandas as pd\n",
    "from testing.testing import test\n",
    "from re import search"
   ]
  },
  {
   "cell_type": "markdown",
   "metadata": {},
   "source": [
    "#### Step 1. Parse out the PDF file using pdfmin"
   ]
  },
  {
   "cell_type": "markdown",
   "metadata": {},
   "source": [
    "In this section, we want to parse the text in the pdfs to a list of strings. "
   ]
  },
  {
   "cell_type": "markdown",
   "metadata": {},
   "source": [
    "**Hint**:\n",
    "* PDFParser\n",
    "* PDFDocumnet\n",
    "* PDFTextExtractionNotAllowed\n",
    "* LAParams\n",
    "* Create a PDF page aggregation object"
   ]
  },
  {
   "cell_type": "code",
   "execution_count": null,
   "metadata": {},
   "outputs": [],
   "source": [
    "def parse_pdf(pdf_list):\n",
    "    \"\"\"\n",
    "    Return the parsed raw text in a list\n",
    "    \n",
    "    Args:\n",
    "        pdf_list(list): list of strings with the path of the pdf files\n",
    "        \n",
    "    Returns:\n",
    "        contests(list):list of strings representing the raw text of each paper \n",
    "    \"\"\"\n",
    "    \n",
    "    return []"
   ]
  },
  {
   "cell_type": "markdown",
   "metadata": {},
   "source": [
    "#### Step2. Clean up the data"
   ]
  },
  {
   "cell_type": "markdown",
   "metadata": {},
   "source": [
    "In this section, there are 4 things we want to clean up from the contents\n",
    "1. Double spaceing. E.g. `'Hello  world'` to `'Hello world'`\n",
    "2. Remove all the Hyphens. E.g. `'hell-\\no world'` to `'hello world'`\n",
    "3. Remove all the `'\\n'`. \n",
    "4. Remove all the `'http'` and `'https'`.\n",
    "5. To lower case."
   ]
  },
  {
   "cell_type": "code",
   "execution_count": null,
   "metadata": {},
   "outputs": [],
   "source": [
    "def clean_data_test(clean_data):\n",
    "    texts = clean_data()\n",
    "    ## test each clean_data is the same as the text file I am having\n",
    "\n",
    "def clean_data(contents):\n",
    "    \n",
    "    \"\"\"\n",
    "    Return the cleaned String in a list\n",
    "    \n",
    "    Args:\n",
    "        contents(list): list of strings representing the raw text of each paper \n",
    "        \n",
    "    Returns: \n",
    "        texts(list): list of strings representing cleaned text of each paper\n",
    "        \n",
    "    \"\"\"\n",
    "    \n",
    "    \n",
    "    return []"
   ]
  },
  {
   "cell_type": "code",
   "execution_count": null,
   "metadata": {},
   "outputs": [],
   "source": []
  }
 ],
 "metadata": {
  "kernelspec": {
   "display_name": "Python 3",
   "language": "python",
   "name": "python3"
  },
  "language_info": {
   "codemirror_mode": {
    "name": "ipython",
    "version": 3
   },
   "file_extension": ".py",
   "mimetype": "text/x-python",
   "name": "python",
   "nbconvert_exporter": "python",
   "pygments_lexer": "ipython3",
   "version": "3.7.4"
  },
  "pycharm": {
   "stem_cell": {
    "cell_type": "raw",
    "source": [],
    "metadata": {
     "collapsed": false
    }
   }
  }
 },
 "nbformat": 4,
 "nbformat_minor": 2
}